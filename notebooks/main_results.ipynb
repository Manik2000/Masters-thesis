{
 "cells": [
  {
   "cell_type": "code",
   "execution_count": 9,
   "metadata": {},
   "outputs": [],
   "source": [
    "import os\n",
    "\n",
    "import pandas as pd"
   ]
  },
  {
   "cell_type": "code",
   "execution_count": 10,
   "metadata": {},
   "outputs": [
    {
     "data": {
      "text/html": [
       "<div>\n",
       "<style scoped>\n",
       "    .dataframe tbody tr th:only-of-type {\n",
       "        vertical-align: middle;\n",
       "    }\n",
       "\n",
       "    .dataframe tbody tr th {\n",
       "        vertical-align: top;\n",
       "    }\n",
       "\n",
       "    .dataframe thead th {\n",
       "        text-align: right;\n",
       "    }\n",
       "</style>\n",
       "<table border=\"1\" class=\"dataframe\">\n",
       "  <thead>\n",
       "    <tr style=\"text-align: right;\">\n",
       "      <th></th>\n",
       "      <th>traj_length</th>\n",
       "      <th>label</th>\n",
       "      <th>detector</th>\n",
       "      <th>f1</th>\n",
       "      <th>rmse</th>\n",
       "      <th>jaccard</th>\n",
       "      <th>annotation_error</th>\n",
       "      <th>alpha_cp</th>\n",
       "    </tr>\n",
       "  </thead>\n",
       "  <tbody>\n",
       "    <tr>\n",
       "      <th>0</th>\n",
       "      <td>50</td>\n",
       "      <td>multi_state</td>\n",
       "      <td>Baseline</td>\n",
       "      <td>0.444444</td>\n",
       "      <td>1.414214</td>\n",
       "      <td>0.285714</td>\n",
       "      <td>5</td>\n",
       "      <td>0.971429</td>\n",
       "    </tr>\n",
       "    <tr>\n",
       "      <th>1</th>\n",
       "      <td>50</td>\n",
       "      <td>multi_state</td>\n",
       "      <td>CPDetector10</td>\n",
       "      <td>0.727273</td>\n",
       "      <td>4.153312</td>\n",
       "      <td>0.571429</td>\n",
       "      <td>3</td>\n",
       "      <td>0.842857</td>\n",
       "    </tr>\n",
       "    <tr>\n",
       "      <th>2</th>\n",
       "      <td>50</td>\n",
       "      <td>multi_state</td>\n",
       "      <td>CPDetector15</td>\n",
       "      <td>0.666667</td>\n",
       "      <td>4.330127</td>\n",
       "      <td>0.500000</td>\n",
       "      <td>2</td>\n",
       "      <td>0.671429</td>\n",
       "    </tr>\n",
       "    <tr>\n",
       "      <th>3</th>\n",
       "      <td>50</td>\n",
       "      <td>multi_state</td>\n",
       "      <td>CPDetector20</td>\n",
       "      <td>0.545455</td>\n",
       "      <td>1.632993</td>\n",
       "      <td>0.375000</td>\n",
       "      <td>3</td>\n",
       "      <td>0.800000</td>\n",
       "    </tr>\n",
       "    <tr>\n",
       "      <th>4</th>\n",
       "      <td>50</td>\n",
       "      <td>confinemnet</td>\n",
       "      <td>Baseline</td>\n",
       "      <td>0.666667</td>\n",
       "      <td>0.000000</td>\n",
       "      <td>0.500000</td>\n",
       "      <td>1</td>\n",
       "      <td>1.000000</td>\n",
       "    </tr>\n",
       "  </tbody>\n",
       "</table>\n",
       "</div>"
      ],
      "text/plain": [
       "   traj_length        label      detector        f1      rmse   jaccard  \\\n",
       "0           50  multi_state      Baseline  0.444444  1.414214  0.285714   \n",
       "1           50  multi_state  CPDetector10  0.727273  4.153312  0.571429   \n",
       "2           50  multi_state  CPDetector15  0.666667  4.330127  0.500000   \n",
       "3           50  multi_state  CPDetector20  0.545455  1.632993  0.375000   \n",
       "4           50  confinemnet      Baseline  0.666667  0.000000  0.500000   \n",
       "\n",
       "   annotation_error  alpha_cp  \n",
       "0                 5  0.971429  \n",
       "1                 3  0.842857  \n",
       "2                 2  0.671429  \n",
       "3                 3  0.800000  \n",
       "4                 1  1.000000  "
      ]
     },
     "execution_count": 10,
     "metadata": {},
     "output_type": "execute_result"
    }
   ],
   "source": [
    "df = pd.read_csv(os.path.join(\"..\", \"data\", \"results\", \"final_eval_results.csv\"))\n",
    "df.head()"
   ]
  },
  {
   "cell_type": "code",
   "execution_count": 21,
   "metadata": {},
   "outputs": [],
   "source": [
    "def get_table_per_length(length):\n",
    "    latex = (\n",
    "        df[df[\"traj_length\"] == length]\n",
    "        .groupby([\"label\", \"detector\"])[\n",
    "            [\"f1\", \"rmse\", \"jaccard\", \"annotation_error\", \"alpha_cp\"]\n",
    "        ]\n",
    "        .agg(\"mean\")\n",
    "    ).to_latex(float_format=\"%.4f\")\n",
    "    return latex"
   ]
  },
  {
   "cell_type": "code",
   "execution_count": 22,
   "metadata": {},
   "outputs": [
    {
     "name": "stdout",
     "output_type": "stream",
     "text": [
      "\\begin{tabular}{llrrrrr}\n",
      "\\toprule\n",
      " &  & f1 & rmse & jaccard & annotation_error & alpha_cp \\\\\n",
      "label & detector &  &  &  &  &  \\\\\n",
      "\\midrule\n",
      "\\multirow[t]{4}{*}{confinemnet} & Baseline & 0.6586 & 0.6706 & 0.5223 & 1.2127 & 0.8982 \\\\\n",
      " & CPDetector10 & 0.8150 & 0.4241 & 0.7402 & 0.8416 & 0.9527 \\\\\n",
      " & CPDetector15 & 0.7814 & 0.6396 & 0.6968 & 0.9845 & 0.9332 \\\\\n",
      " & CPDetector20 & 0.7760 & 0.6414 & 0.6929 & 0.9658 & 0.9295 \\\\\n",
      "\\cline{1-7}\n",
      "\\multirow[t]{4}{*}{dimmerization} & Baseline & 0.6757 & 0.5123 & 0.5453 & 1.3138 & 0.9403 \\\\\n",
      " & CPDetector10 & 0.8232 & 0.3407 & 0.7572 & 0.8918 & 0.9672 \\\\\n",
      " & CPDetector15 & 0.7896 & 0.4000 & 0.7123 & 1.0402 & 0.9601 \\\\\n",
      " & CPDetector20 & 0.7985 & 0.3580 & 0.7270 & 1.0031 & 0.9656 \\\\\n",
      "\\cline{1-7}\n",
      "\\multirow[t]{4}{*}{immobile} & Baseline & 0.6646 & 0.3647 & 0.5294 & 1.4152 & 0.9667 \\\\\n",
      " & CPDetector10 & 0.8541 & 0.2229 & 0.7959 & 0.7876 & 0.9776 \\\\\n",
      " & CPDetector15 & 0.7951 & 0.1575 & 0.7232 & 1.0475 & 0.9762 \\\\\n",
      " & CPDetector20 & 0.8151 & 0.2022 & 0.7538 & 0.9794 & 0.9755 \\\\\n",
      "\\cline{1-7}\n",
      "\\multirow[t]{4}{*}{multi_state} & Baseline & 0.5671 & 1.6320 & 0.4216 & 3.2922 & 0.8932 \\\\\n",
      " & CPDetector10 & 0.6577 & 1.4447 & 0.5227 & 2.5984 & 0.8755 \\\\\n",
      " & CPDetector15 & 0.6238 & 1.6789 & 0.4831 & 2.7516 & 0.8477 \\\\\n",
      " & CPDetector20 & 0.5650 & 1.5718 & 0.4248 & 3.1953 & 0.8801 \\\\\n",
      "\\cline{1-7}\n",
      "\\multirow[t]{4}{*}{single_state} & Baseline & 0.6455 & 0.0000 & 0.4961 & 1.2304 & 1.0000 \\\\\n",
      " & CPDetector10 & 0.6830 & 0.0000 & 0.5755 & 1.3871 & 1.0000 \\\\\n",
      " & CPDetector15 & 0.5776 & 0.0000 & 0.4545 & 2.0549 & 1.0000 \\\\\n",
      " & CPDetector20 & 0.6687 & 0.0000 & 0.5571 & 1.4279 & 1.0000 \\\\\n",
      "\\cline{1-7}\n",
      "\\bottomrule\n",
      "\\end{tabular}\n",
      "\n"
     ]
    }
   ],
   "source": [
    "print(get_table_per_length(50))"
   ]
  },
  {
   "cell_type": "code",
   "execution_count": 23,
   "metadata": {},
   "outputs": [
    {
     "name": "stdout",
     "output_type": "stream",
     "text": [
      "\\begin{tabular}{llrrrrr}\n",
      "\\toprule\n",
      " &  & f1 & rmse & jaccard & annotation_error & alpha_cp \\\\\n",
      "label & detector &  &  &  &  &  \\\\\n",
      "\\midrule\n",
      "\\multirow[t]{4}{*}{confinemnet} & Baseline & 0.5468 & 0.8709 & 0.4112 & 2.0137 & 0.8314 \\\\\n",
      " & CPDetector10 & 0.7391 & 0.7415 & 0.6418 & 1.3430 & 0.9136 \\\\\n",
      " & CPDetector15 & 0.6878 & 0.8259 & 0.5828 & 1.6753 & 0.8853 \\\\\n",
      " & CPDetector20 & 0.6952 & 1.0822 & 0.5924 & 1.5899 & 0.8785 \\\\\n",
      "\\cline{1-7}\n",
      "\\multirow[t]{4}{*}{dimmerization} & Baseline & 0.5651 & 0.9548 & 0.4333 & 2.1342 & 0.8597 \\\\\n",
      " & CPDetector10 & 0.7258 & 0.5435 & 0.6312 & 1.4728 & 0.9202 \\\\\n",
      " & CPDetector15 & 0.6904 & 0.7601 & 0.5856 & 1.6470 & 0.8956 \\\\\n",
      " & CPDetector20 & 0.6964 & 0.7615 & 0.5962 & 1.6534 & 0.9008 \\\\\n",
      "\\cline{1-7}\n",
      "\\multirow[t]{4}{*}{immobile} & Baseline & 0.5585 & 0.5261 & 0.4346 & 2.4921 & 0.9368 \\\\\n",
      " & CPDetector10 & 0.8027 & 0.3055 & 0.7267 & 1.3318 & 0.9672 \\\\\n",
      " & CPDetector15 & 0.7076 & 0.2459 & 0.6161 & 1.8208 & 0.9594 \\\\\n",
      " & CPDetector20 & 0.7254 & 0.2499 & 0.6417 & 1.6950 & 0.9568 \\\\\n",
      "\\cline{1-7}\n",
      "\\multirow[t]{4}{*}{multi_state} & Baseline & 0.5314 & 2.1011 & 0.3801 & 5.2982 & 0.8567 \\\\\n",
      " & CPDetector10 & 0.6279 & 1.8669 & 0.4794 & 4.0415 & 0.8319 \\\\\n",
      " & CPDetector15 & 0.5937 & 2.1481 & 0.4425 & 4.4737 & 0.8080 \\\\\n",
      " & CPDetector20 & 0.5357 & 2.1013 & 0.3901 & 5.0845 & 0.8301 \\\\\n",
      "\\cline{1-7}\n",
      "\\multirow[t]{4}{*}{single_state} & Baseline & 0.5168 & 0.0000 & 0.3891 & 2.3756 & 1.0000 \\\\\n",
      " & CPDetector10 & 0.5311 & 0.0000 & 0.4139 & 2.6977 & 1.0000 \\\\\n",
      " & CPDetector15 & 0.3933 & 0.0000 & 0.2757 & 4.3221 & 1.0000 \\\\\n",
      " & CPDetector20 & 0.4781 & 0.0000 & 0.3570 & 3.1679 & 1.0000 \\\\\n",
      "\\cline{1-7}\n",
      "\\bottomrule\n",
      "\\end{tabular}\n",
      "\n"
     ]
    }
   ],
   "source": [
    "print(get_table_per_length(85))"
   ]
  },
  {
   "cell_type": "code",
   "execution_count": 24,
   "metadata": {},
   "outputs": [
    {
     "name": "stdout",
     "output_type": "stream",
     "text": [
      "\\begin{tabular}{llrrrrr}\n",
      "\\toprule\n",
      " &  & f1 & rmse & jaccard & annotation_error & alpha_cp \\\\\n",
      "label & detector &  &  &  &  &  \\\\\n",
      "\\midrule\n",
      "\\multirow[t]{4}{*}{confinemnet} & Baseline & 0.5102 & 1.1637 & 0.3860 & 2.8450 & 0.7985 \\\\\n",
      " & CPDetector10 & 0.7224 & 0.8562 & 0.6197 & 1.6899 & 0.8964 \\\\\n",
      " & CPDetector15 & 0.6606 & 1.0456 & 0.5463 & 2.0357 & 0.8550 \\\\\n",
      " & CPDetector20 & 0.6733 & 1.2672 & 0.5706 & 1.9643 & 0.8355 \\\\\n",
      "\\cline{1-7}\n",
      "\\multirow[t]{4}{*}{dimmerization} & Baseline & 0.5043 & 1.0361 & 0.3797 & 3.3270 & 0.8483 \\\\\n",
      " & CPDetector10 & 0.6877 & 0.7221 & 0.5866 & 2.2954 & 0.9159 \\\\\n",
      " & CPDetector15 & 0.6344 & 0.8463 & 0.5202 & 2.4376 & 0.8799 \\\\\n",
      " & CPDetector20 & 0.6512 & 1.0105 & 0.5417 & 2.4739 & 0.8880 \\\\\n",
      "\\cline{1-7}\n",
      "\\multirow[t]{4}{*}{immobile} & Baseline & 0.5344 & 0.6962 & 0.4269 & 3.2958 & 0.9227 \\\\\n",
      " & CPDetector10 & 0.7660 & 0.4089 & 0.6763 & 1.6579 & 0.9524 \\\\\n",
      " & CPDetector15 & 0.6535 & 0.3603 & 0.5474 & 2.4022 & 0.9434 \\\\\n",
      " & CPDetector20 & 0.6702 & 0.3593 & 0.5729 & 2.2712 & 0.9408 \\\\\n",
      "\\cline{1-7}\n",
      "\\multirow[t]{4}{*}{multi_state} & Baseline & 0.5068 & 2.2608 & 0.3579 & 6.9969 & 0.8310 \\\\\n",
      " & CPDetector10 & 0.6288 & 2.0857 & 0.4782 & 5.1937 & 0.8139 \\\\\n",
      " & CPDetector15 & 0.6029 & 2.3401 & 0.4482 & 5.4703 & 0.7765 \\\\\n",
      " & CPDetector20 & 0.5447 & 2.4823 & 0.3939 & 6.2922 & 0.7976 \\\\\n",
      "\\cline{1-7}\n",
      "\\multirow[t]{4}{*}{single_state} & Baseline & 0.4804 & 0.0000 & 0.3802 & 3.2938 & 1.0000 \\\\\n",
      " & CPDetector10 & 0.4503 & 0.0000 & 0.3321 & 3.7362 & 1.0000 \\\\\n",
      " & CPDetector15 & 0.3084 & 0.0000 & 0.2105 & 6.5387 & 1.0000 \\\\\n",
      " & CPDetector20 & 0.3722 & 0.0000 & 0.2612 & 4.8910 & 1.0000 \\\\\n",
      "\\cline{1-7}\n",
      "\\bottomrule\n",
      "\\end{tabular}\n",
      "\n"
     ]
    }
   ],
   "source": [
    "print(get_table_per_length(120))"
   ]
  },
  {
   "cell_type": "code",
   "execution_count": null,
   "metadata": {},
   "outputs": [],
   "source": []
  }
 ],
 "metadata": {
  "kernelspec": {
   "display_name": "masters",
   "language": "python",
   "name": "python3"
  },
  "language_info": {
   "codemirror_mode": {
    "name": "ipython",
    "version": 3
   },
   "file_extension": ".py",
   "mimetype": "text/x-python",
   "name": "python",
   "nbconvert_exporter": "python",
   "pygments_lexer": "ipython3",
   "version": "3.11.9"
  }
 },
 "nbformat": 4,
 "nbformat_minor": 2
}
