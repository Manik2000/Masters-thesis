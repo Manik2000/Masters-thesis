{
 "cells": [
  {
   "cell_type": "code",
   "execution_count": 1,
   "metadata": {},
   "outputs": [],
   "source": [
    "import os\n",
    "import re\n",
    "\n",
    "import pandas as pd"
   ]
  },
  {
   "cell_type": "code",
   "execution_count": 2,
   "metadata": {},
   "outputs": [
    {
     "data": {
      "text/html": [
       "<div>\n",
       "<style scoped>\n",
       "    .dataframe tbody tr th:only-of-type {\n",
       "        vertical-align: middle;\n",
       "    }\n",
       "\n",
       "    .dataframe tbody tr th {\n",
       "        vertical-align: top;\n",
       "    }\n",
       "\n",
       "    .dataframe thead th {\n",
       "        text-align: right;\n",
       "    }\n",
       "</style>\n",
       "<table border=\"1\" class=\"dataframe\">\n",
       "  <thead>\n",
       "    <tr style=\"text-align: right;\">\n",
       "      <th></th>\n",
       "      <th>traj_length</th>\n",
       "      <th>label</th>\n",
       "      <th>detector</th>\n",
       "      <th>f1</th>\n",
       "      <th>rmse</th>\n",
       "      <th>jaccard</th>\n",
       "      <th>annotation_error</th>\n",
       "      <th>alpha_cp</th>\n",
       "    </tr>\n",
       "  </thead>\n",
       "  <tbody>\n",
       "    <tr>\n",
       "      <th>0</th>\n",
       "      <td>50</td>\n",
       "      <td>multi_state</td>\n",
       "      <td>Baseline</td>\n",
       "      <td>0.444444</td>\n",
       "      <td>1.414214</td>\n",
       "      <td>0.285714</td>\n",
       "      <td>5</td>\n",
       "      <td>0.971429</td>\n",
       "    </tr>\n",
       "    <tr>\n",
       "      <th>1</th>\n",
       "      <td>50</td>\n",
       "      <td>multi_state</td>\n",
       "      <td>CPDetector10</td>\n",
       "      <td>0.444444</td>\n",
       "      <td>1.414214</td>\n",
       "      <td>0.285714</td>\n",
       "      <td>5</td>\n",
       "      <td>0.971429</td>\n",
       "    </tr>\n",
       "    <tr>\n",
       "      <th>2</th>\n",
       "      <td>50</td>\n",
       "      <td>multi_state</td>\n",
       "      <td>CPDetector15</td>\n",
       "      <td>0.250000</td>\n",
       "      <td>0.000000</td>\n",
       "      <td>0.142857</td>\n",
       "      <td>6</td>\n",
       "      <td>1.000000</td>\n",
       "    </tr>\n",
       "    <tr>\n",
       "      <th>3</th>\n",
       "      <td>50</td>\n",
       "      <td>multi_state</td>\n",
       "      <td>CPDetector20</td>\n",
       "      <td>0.444444</td>\n",
       "      <td>2.121320</td>\n",
       "      <td>0.285714</td>\n",
       "      <td>5</td>\n",
       "      <td>0.957143</td>\n",
       "    </tr>\n",
       "    <tr>\n",
       "      <th>4</th>\n",
       "      <td>50</td>\n",
       "      <td>confinemnet</td>\n",
       "      <td>Baseline</td>\n",
       "      <td>0.666667</td>\n",
       "      <td>0.000000</td>\n",
       "      <td>0.500000</td>\n",
       "      <td>1</td>\n",
       "      <td>1.000000</td>\n",
       "    </tr>\n",
       "  </tbody>\n",
       "</table>\n",
       "</div>"
      ],
      "text/plain": [
       "   traj_length        label      detector        f1      rmse   jaccard  \\\n",
       "0           50  multi_state      Baseline  0.444444  1.414214  0.285714   \n",
       "1           50  multi_state  CPDetector10  0.444444  1.414214  0.285714   \n",
       "2           50  multi_state  CPDetector15  0.250000  0.000000  0.142857   \n",
       "3           50  multi_state  CPDetector20  0.444444  2.121320  0.285714   \n",
       "4           50  confinemnet      Baseline  0.666667  0.000000  0.500000   \n",
       "\n",
       "   annotation_error  alpha_cp  \n",
       "0                 5  0.971429  \n",
       "1                 5  0.971429  \n",
       "2                 6  1.000000  \n",
       "3                 5  0.957143  \n",
       "4                 1  1.000000  "
      ]
     },
     "execution_count": 2,
     "metadata": {},
     "output_type": "execute_result"
    }
   ],
   "source": [
    "df = pd.read_csv(os.path.join(\"..\", \"data\", \"results\", \"final_eval_results.csv\"))\n",
    "df.head()"
   ]
  },
  {
   "cell_type": "code",
   "execution_count": 3,
   "metadata": {},
   "outputs": [],
   "source": [
    "def get_table_per_length(length):\n",
    "    latex = (\n",
    "        df[df[\"traj_length\"] == length]\n",
    "        .groupby([\"label\", \"detector\"])[\n",
    "            [\"f1\", \"rmse\", \"jaccard\", \"annotation_error\", \"alpha_cp\"]\n",
    "        ]\n",
    "        .agg(\"mean\")\n",
    "    ).to_latex(float_format=\"%.4f\")\n",
    "    return latex\n",
    "\n",
    "def replace_floats_with_math(text):\n",
    "    return re.sub(r\"(\\d+\\.\\d+)\", r\"$\\1$\", text)\n",
    "\n",
    "def get_table(length):\n",
    "    return replace_floats_with_math(get_table_per_length(length))   "
   ]
  },
  {
   "cell_type": "code",
   "execution_count": 4,
   "metadata": {},
   "outputs": [
    {
     "name": "stdout",
     "output_type": "stream",
     "text": [
      "\\begin{tabular}{llrrrrr}\n",
      "\\toprule\n",
      " &  & f1 & rmse & jaccard & annotation_error & alpha_cp \\\\\n",
      "label & detector &  &  &  &  &  \\\\\n",
      "\\midrule\n",
      "\\multirow[t]{4}{*}{confinemnet} & Baseline & $0.6586$ & $0.6706$ & $0.5223$ & $1.2127$ & $0.8982$ \\\\\n",
      " & CPDetector10 & $0.8459$ & $0.1927$ & $0.7883$ & $0.7686$ & $0.9859$ \\\\\n",
      " & CPDetector15 & $0.8450$ & $0.1522$ & $0.7866$ & $0.7888$ & $0.9907$ \\\\\n",
      " & CPDetector20 & $0.8329$ & $0.3520$ & $0.7709$ & $0.8043$ & $0.9716$ \\\\\n",
      "\\cline{1-7}\n",
      "\\multirow[t]{4}{*}{dimmerization} & Baseline & $0.6757$ & $0.5123$ & $0.5453$ & $1.3138$ & $0.9403$ \\\\\n",
      " & CPDetector10 & $0.8645$ & $0.1625$ & $0.8212$ & $0.7929$ & $0.9888$ \\\\\n",
      " & CPDetector15 & $0.8647$ & $0.1336$ & $0.8213$ & $0.8022$ & $0.9909$ \\\\\n",
      " & CPDetector20 & $0.8561$ & $0.2181$ & $0.8070$ & $0.8331$ & $0.9879$ \\\\\n",
      "\\cline{1-7}\n",
      "\\multirow[t]{4}{*}{immobile} & Baseline & $0.6646$ & $0.3647$ & $0.5294$ & $1.4152$ & $0.9667$ \\\\\n",
      " & CPDetector10 & $0.9310$ & $0.1779$ & $0.9022$ & $0.5166$ & $0.9894$ \\\\\n",
      " & CPDetector15 & $0.9184$ & $0.1185$ & $0.8869$ & $0.5911$ & $0.9940$ \\\\\n",
      " & CPDetector20 & $0.8936$ & $0.1904$ & $0.8585$ & $0.6973$ & $0.9884$ \\\\\n",
      "\\cline{1-7}\n",
      "\\multirow[t]{4}{*}{multi_state} & Baseline & $0.5671$ & $1.6320$ & $0.4216$ & $3.2922$ & $0.8932$ \\\\\n",
      " & CPDetector10 & $0.4978$ & $0.3341$ & $0.3713$ & $3.7516$ & $0.9804$ \\\\\n",
      " & CPDetector15 & $0.5268$ & $0.4831$ & $0.3972$ & $3.6031$ & $0.9713$ \\\\\n",
      " & CPDetector20 & $0.5377$ & $0.9689$ & $0.4030$ & $3.5156$ & $0.9427$ \\\\\n",
      "\\cline{1-7}\n",
      "\\multirow[t]{4}{*}{single_state} & Baseline & $0.6455$ & $0.0000$ & $0.4961$ & $1.2304$ & $1.0000$ \\\\\n",
      " & CPDetector10 & $0.9856$ & $0.0000$ & $0.9791$ & $0.0470$ & $1.0000$ \\\\\n",
      " & CPDetector15 & $0.9815$ & $0.0000$ & $0.9726$ & $0.0580$ & $1.0000$ \\\\\n",
      " & CPDetector20 & $0.9183$ & $0.0000$ & $0.8848$ & $0.3009$ & $1.0000$ \\\\\n",
      "\\cline{1-7}\n",
      "\\bottomrule\n",
      "\\end{tabular}\n",
      "\n"
     ]
    }
   ],
   "source": [
    "print(get_table(50))"
   ]
  },
  {
   "cell_type": "code",
   "execution_count": 5,
   "metadata": {},
   "outputs": [
    {
     "name": "stdout",
     "output_type": "stream",
     "text": [
      "\\begin{tabular}{llrrrrr}\n",
      "\\toprule\n",
      " &  & f1 & rmse & jaccard & annotation_error & alpha_cp \\\\\n",
      "label & detector &  &  &  &  &  \\\\\n",
      "\\midrule\n",
      "\\multirow[t]{4}{*}{confinemnet} & Baseline & $0.5102$ & $1.1637$ & $0.3860$ & $2.8450$ & $0.7985$ \\\\\n",
      " & CPDetector10 & $0.7606$ & $0.3854$ & $0.6855$ & $1.7783$ & $0.9718$ \\\\\n",
      " & CPDetector15 & $0.7580$ & $0.3998$ & $0.6773$ & $1.7643$ & $0.9699$ \\\\\n",
      " & CPDetector20 & $0.7593$ & $0.7877$ & $0.6750$ & $1.6884$ & $0.9373$ \\\\\n",
      "\\cline{1-7}\n",
      "\\multirow[t]{4}{*}{dimmerization} & Baseline & $0.5043$ & $1.0361$ & $0.3797$ & $3.3270$ & $0.8483$ \\\\\n",
      " & CPDetector10 & $0.7448$ & $0.3662$ & $0.6777$ & $2.3365$ & $0.9767$ \\\\\n",
      " & CPDetector15 & $0.7486$ & $0.3436$ & $0.6803$ & $2.3207$ & $0.9765$ \\\\\n",
      " & CPDetector20 & $0.7425$ & $0.5963$ & $0.6665$ & $2.2986$ & $0.9584$ \\\\\n",
      "\\cline{1-7}\n",
      "\\multirow[t]{4}{*}{immobile} & Baseline & $0.5344$ & $0.6962$ & $0.4269$ & $3.2958$ & $0.9227$ \\\\\n",
      " & CPDetector10 & $0.9034$ & $0.3536$ & $0.8589$ & $1.1094$ & $0.9804$ \\\\\n",
      " & CPDetector15 & $0.8883$ & $0.2796$ & $0.8432$ & $1.2388$ & $0.9845$ \\\\\n",
      " & CPDetector20 & $0.8397$ & $0.3521$ & $0.7859$ & $1.5131$ & $0.9764$ \\\\\n",
      "\\cline{1-7}\n",
      "\\multirow[t]{4}{*}{multi_state} & Baseline & $0.5068$ & $2.2608$ & $0.3579$ & $6.9969$ & $0.8310$ \\\\\n",
      " & CPDetector10 & $0.3769$ & $0.5189$ & $0.2684$ & $8.7141$ & $0.9753$ \\\\\n",
      " & CPDetector15 & $0.4484$ & $0.9982$ & $0.3219$ & $8.1469$ & $0.9581$ \\\\\n",
      " & CPDetector20 & $0.4977$ & $1.9269$ & $0.3565$ & $7.4781$ & $0.8982$ \\\\\n",
      "\\cline{1-7}\n",
      "\\multirow[t]{4}{*}{single_state} & Baseline & $0.4804$ & $0.0000$ & $0.3802$ & $3.2938$ & $1.0000$ \\\\\n",
      " & CPDetector10 & $0.9725$ & $0.0000$ & $0.9598$ & $0.0900$ & $1.0000$ \\\\\n",
      " & CPDetector15 & $0.9510$ & $0.0000$ & $0.9296$ & $0.1675$ & $1.0000$ \\\\\n",
      " & CPDetector20 & $0.7952$ & $0.0000$ & $0.7199$ & $0.8436$ & $1.0000$ \\\\\n",
      "\\cline{1-7}\n",
      "\\bottomrule\n",
      "\\end{tabular}\n",
      "\n"
     ]
    }
   ],
   "source": [
    "print(get_table(120))"
   ]
  },
  {
   "cell_type": "code",
   "execution_count": null,
   "metadata": {},
   "outputs": [],
   "source": []
  }
 ],
 "metadata": {
  "kernelspec": {
   "display_name": "masters",
   "language": "python",
   "name": "python3"
  },
  "language_info": {
   "codemirror_mode": {
    "name": "ipython",
    "version": 3
   },
   "file_extension": ".py",
   "mimetype": "text/x-python",
   "name": "python",
   "nbconvert_exporter": "python",
   "pygments_lexer": "ipython3",
   "version": "3.11.9"
  }
 },
 "nbformat": 4,
 "nbformat_minor": 2
}
